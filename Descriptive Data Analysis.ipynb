{
 "cells": [
  {
   "cell_type": "markdown",
   "id": "13b5279f",
   "metadata": {},
   "source": [
    "## Waze Churn Analysis Project\n",
    "\n",
    "This notebook contains the initial steps in analyzing the Waze app user data to prepare for a churn prediction model. The goal is to understand user behavior and identify features that contribute to user churn."
   ]
  },
  {
   "cell_type": "code",
   "execution_count": 1,
   "id": "439bc265",
   "metadata": {},
   "outputs": [],
   "source": [
    "import pandas as pd\n",
    "import numpy as np"
   ]
  },
  {
   "cell_type": "code",
   "execution_count": 3,
   "id": "33d6d4b9",
   "metadata": {},
   "outputs": [
    {
     "data": {
      "application/vnd.microsoft.datawrangler.viewer.v0+json": {
       "columns": [
        {
         "name": "index",
         "rawType": "int64",
         "type": "integer"
        },
        {
         "name": "ID",
         "rawType": "int64",
         "type": "integer"
        },
        {
         "name": "label",
         "rawType": "object",
         "type": "string"
        },
        {
         "name": "sessions",
         "rawType": "int64",
         "type": "integer"
        },
        {
         "name": "drives",
         "rawType": "int64",
         "type": "integer"
        },
        {
         "name": "total_sessions",
         "rawType": "float64",
         "type": "float"
        },
        {
         "name": "n_days_after_onboarding",
         "rawType": "int64",
         "type": "integer"
        },
        {
         "name": "total_navigations_fav1",
         "rawType": "int64",
         "type": "integer"
        },
        {
         "name": "total_navigations_fav2",
         "rawType": "int64",
         "type": "integer"
        },
        {
         "name": "driven_km_drives",
         "rawType": "float64",
         "type": "float"
        },
        {
         "name": "duration_minutes_drives",
         "rawType": "float64",
         "type": "float"
        },
        {
         "name": "activity_days",
         "rawType": "int64",
         "type": "integer"
        },
        {
         "name": "driving_days",
         "rawType": "int64",
         "type": "integer"
        },
        {
         "name": "device",
         "rawType": "object",
         "type": "string"
        }
       ],
       "ref": "541f8d1a-8079-4f7c-ab17-6bc9a2f532ee",
       "rows": [
        [
         "0",
         "0",
         "retained",
         "283",
         "226",
         "296.7482729",
         "2276",
         "208",
         "0",
         "2628.845068",
         "1985.775061",
         "28",
         "19",
         "Android"
        ],
        [
         "1",
         "1",
         "retained",
         "133",
         "107",
         "326.8965962",
         "1225",
         "19",
         "64",
         "13715.92055",
         "3160.472914",
         "13",
         "11",
         "iPhone"
        ],
        [
         "2",
         "2",
         "retained",
         "114",
         "95",
         "135.5229263",
         "2651",
         "0",
         "0",
         "3059.148818",
         "1610.735904",
         "14",
         "8",
         "Android"
        ],
        [
         "3",
         "3",
         "retained",
         "49",
         "40",
         "67.58922127",
         "15",
         "322",
         "7",
         "913.5911231",
         "587.1965423",
         "7",
         "3",
         "iPhone"
        ],
        [
         "4",
         "4",
         "retained",
         "84",
         "68",
         "168.2470201",
         "1562",
         "166",
         "5",
         "3950.202008",
         "1219.555924",
         "27",
         "18",
         "Android"
        ]
       ],
       "shape": {
        "columns": 13,
        "rows": 5
       }
      },
      "text/html": [
       "<div>\n",
       "<style scoped>\n",
       "    .dataframe tbody tr th:only-of-type {\n",
       "        vertical-align: middle;\n",
       "    }\n",
       "\n",
       "    .dataframe tbody tr th {\n",
       "        vertical-align: top;\n",
       "    }\n",
       "\n",
       "    .dataframe thead th {\n",
       "        text-align: right;\n",
       "    }\n",
       "</style>\n",
       "<table border=\"1\" class=\"dataframe\">\n",
       "  <thead>\n",
       "    <tr style=\"text-align: right;\">\n",
       "      <th></th>\n",
       "      <th>ID</th>\n",
       "      <th>label</th>\n",
       "      <th>sessions</th>\n",
       "      <th>drives</th>\n",
       "      <th>total_sessions</th>\n",
       "      <th>n_days_after_onboarding</th>\n",
       "      <th>total_navigations_fav1</th>\n",
       "      <th>total_navigations_fav2</th>\n",
       "      <th>driven_km_drives</th>\n",
       "      <th>duration_minutes_drives</th>\n",
       "      <th>activity_days</th>\n",
       "      <th>driving_days</th>\n",
       "      <th>device</th>\n",
       "    </tr>\n",
       "  </thead>\n",
       "  <tbody>\n",
       "    <tr>\n",
       "      <th>0</th>\n",
       "      <td>0</td>\n",
       "      <td>retained</td>\n",
       "      <td>283</td>\n",
       "      <td>226</td>\n",
       "      <td>296.748273</td>\n",
       "      <td>2276</td>\n",
       "      <td>208</td>\n",
       "      <td>0</td>\n",
       "      <td>2628.845068</td>\n",
       "      <td>1985.775061</td>\n",
       "      <td>28</td>\n",
       "      <td>19</td>\n",
       "      <td>Android</td>\n",
       "    </tr>\n",
       "    <tr>\n",
       "      <th>1</th>\n",
       "      <td>1</td>\n",
       "      <td>retained</td>\n",
       "      <td>133</td>\n",
       "      <td>107</td>\n",
       "      <td>326.896596</td>\n",
       "      <td>1225</td>\n",
       "      <td>19</td>\n",
       "      <td>64</td>\n",
       "      <td>13715.920550</td>\n",
       "      <td>3160.472914</td>\n",
       "      <td>13</td>\n",
       "      <td>11</td>\n",
       "      <td>iPhone</td>\n",
       "    </tr>\n",
       "    <tr>\n",
       "      <th>2</th>\n",
       "      <td>2</td>\n",
       "      <td>retained</td>\n",
       "      <td>114</td>\n",
       "      <td>95</td>\n",
       "      <td>135.522926</td>\n",
       "      <td>2651</td>\n",
       "      <td>0</td>\n",
       "      <td>0</td>\n",
       "      <td>3059.148818</td>\n",
       "      <td>1610.735904</td>\n",
       "      <td>14</td>\n",
       "      <td>8</td>\n",
       "      <td>Android</td>\n",
       "    </tr>\n",
       "    <tr>\n",
       "      <th>3</th>\n",
       "      <td>3</td>\n",
       "      <td>retained</td>\n",
       "      <td>49</td>\n",
       "      <td>40</td>\n",
       "      <td>67.589221</td>\n",
       "      <td>15</td>\n",
       "      <td>322</td>\n",
       "      <td>7</td>\n",
       "      <td>913.591123</td>\n",
       "      <td>587.196542</td>\n",
       "      <td>7</td>\n",
       "      <td>3</td>\n",
       "      <td>iPhone</td>\n",
       "    </tr>\n",
       "    <tr>\n",
       "      <th>4</th>\n",
       "      <td>4</td>\n",
       "      <td>retained</td>\n",
       "      <td>84</td>\n",
       "      <td>68</td>\n",
       "      <td>168.247020</td>\n",
       "      <td>1562</td>\n",
       "      <td>166</td>\n",
       "      <td>5</td>\n",
       "      <td>3950.202008</td>\n",
       "      <td>1219.555924</td>\n",
       "      <td>27</td>\n",
       "      <td>18</td>\n",
       "      <td>Android</td>\n",
       "    </tr>\n",
       "  </tbody>\n",
       "</table>\n",
       "</div>"
      ],
      "text/plain": [
       "   ID     label  sessions  drives  total_sessions  n_days_after_onboarding  \\\n",
       "0   0  retained       283     226      296.748273                     2276   \n",
       "1   1  retained       133     107      326.896596                     1225   \n",
       "2   2  retained       114      95      135.522926                     2651   \n",
       "3   3  retained        49      40       67.589221                       15   \n",
       "4   4  retained        84      68      168.247020                     1562   \n",
       "\n",
       "   total_navigations_fav1  total_navigations_fav2  driven_km_drives  \\\n",
       "0                     208                       0       2628.845068   \n",
       "1                      19                      64      13715.920550   \n",
       "2                       0                       0       3059.148818   \n",
       "3                     322                       7        913.591123   \n",
       "4                     166                       5       3950.202008   \n",
       "\n",
       "   duration_minutes_drives  activity_days  driving_days   device  \n",
       "0              1985.775061             28            19  Android  \n",
       "1              3160.472914             13            11   iPhone  \n",
       "2              1610.735904             14             8  Android  \n",
       "3               587.196542              7             3   iPhone  \n",
       "4              1219.555924             27            18  Android  "
      ]
     },
     "execution_count": 3,
     "metadata": {},
     "output_type": "execute_result"
    }
   ],
   "source": [
    "df = pd.read_csv(\"waze_dataset.csv\")\n",
    "df.head()"
   ]
  },
  {
   "cell_type": "markdown",
   "id": "44c8c017",
   "metadata": {},
   "source": [
    "### Next Steps:\n",
    "I’ll now:\n",
    "\n",
    "Summarize the data types of each column.\n",
    "\n",
    "Gather descriptive statistics to support EDA.\n",
    "\n",
    "Draft a brief executive summary for both technical and non-technical stakeholders."
   ]
  },
  {
   "cell_type": "code",
   "execution_count": 4,
   "id": "e1d9aca5",
   "metadata": {},
   "outputs": [],
   "source": [
    "waze = df"
   ]
  },
  {
   "cell_type": "code",
   "execution_count": 7,
   "id": "251a679c",
   "metadata": {},
   "outputs": [
    {
     "data": {
      "application/vnd.microsoft.datawrangler.viewer.v0+json": {
       "columns": [
        {
         "name": "index",
         "rawType": "object",
         "type": "string"
        },
        {
         "name": "0",
         "rawType": "object",
         "type": "unknown"
        }
       ],
       "ref": "e39a2b24-8059-4be4-83c3-9dcc689b7d05",
       "rows": [
        [
         "ID",
         "int64"
        ],
        [
         "label",
         "object"
        ],
        [
         "sessions",
         "int64"
        ],
        [
         "drives",
         "int64"
        ],
        [
         "total_sessions",
         "float64"
        ],
        [
         "n_days_after_onboarding",
         "int64"
        ],
        [
         "total_navigations_fav1",
         "int64"
        ],
        [
         "total_navigations_fav2",
         "int64"
        ],
        [
         "driven_km_drives",
         "float64"
        ],
        [
         "duration_minutes_drives",
         "float64"
        ],
        [
         "activity_days",
         "int64"
        ],
        [
         "driving_days",
         "int64"
        ],
        [
         "device",
         "object"
        ]
       ],
       "shape": {
        "columns": 1,
        "rows": 13
       }
      },
      "text/plain": [
       "ID                           int64\n",
       "label                       object\n",
       "sessions                     int64\n",
       "drives                       int64\n",
       "total_sessions             float64\n",
       "n_days_after_onboarding      int64\n",
       "total_navigations_fav1       int64\n",
       "total_navigations_fav2       int64\n",
       "driven_km_drives           float64\n",
       "duration_minutes_drives    float64\n",
       "activity_days                int64\n",
       "driving_days                 int64\n",
       "device                      object\n",
       "dtype: object"
      ]
     },
     "execution_count": 7,
     "metadata": {},
     "output_type": "execute_result"
    }
   ],
   "source": [
    "waze.dtypes"
   ]
  },
  {
   "cell_type": "markdown",
   "id": "a62eb5b6",
   "metadata": {},
   "source": [
    "### Observations:\n",
    "The target column is label, which is categorical with values like retained.\n",
    "\n",
    "The feature columns are mostly numerical, suitable for machine learning models.\n",
    "\n",
    "device is a categorical variable (e.g., \"Android\", \"iPhone\").\n",
    "\n",
    "Next, I’ll compute descriptive statistics to assist in exploratory data analysis."
   ]
  },
  {
   "cell_type": "code",
   "execution_count": 8,
   "id": "a19da1ce",
   "metadata": {},
   "outputs": [
    {
     "data": {
      "application/vnd.microsoft.datawrangler.viewer.v0+json": {
       "columns": [
        {
         "name": "index",
         "rawType": "object",
         "type": "string"
        },
        {
         "name": "ID",
         "rawType": "float64",
         "type": "float"
        },
        {
         "name": "label",
         "rawType": "object",
         "type": "unknown"
        },
        {
         "name": "sessions",
         "rawType": "float64",
         "type": "float"
        },
        {
         "name": "drives",
         "rawType": "float64",
         "type": "float"
        },
        {
         "name": "total_sessions",
         "rawType": "float64",
         "type": "float"
        },
        {
         "name": "n_days_after_onboarding",
         "rawType": "float64",
         "type": "float"
        },
        {
         "name": "total_navigations_fav1",
         "rawType": "float64",
         "type": "float"
        },
        {
         "name": "total_navigations_fav2",
         "rawType": "float64",
         "type": "float"
        },
        {
         "name": "driven_km_drives",
         "rawType": "float64",
         "type": "float"
        },
        {
         "name": "duration_minutes_drives",
         "rawType": "float64",
         "type": "float"
        },
        {
         "name": "activity_days",
         "rawType": "float64",
         "type": "float"
        },
        {
         "name": "driving_days",
         "rawType": "float64",
         "type": "float"
        },
        {
         "name": "device",
         "rawType": "object",
         "type": "unknown"
        }
       ],
       "ref": "578301ae-3f41-4bf2-a2d9-606267c3582a",
       "rows": [
        [
         "count",
         "14999.0",
         "14299",
         "14999.0",
         "14999.0",
         "14999.0",
         "14999.0",
         "14999.0",
         "14999.0",
         "14999.0",
         "14999.0",
         "14999.0",
         "14999.0",
         "14999"
        ],
        [
         "unique",
         null,
         "2",
         null,
         null,
         null,
         null,
         null,
         null,
         null,
         null,
         null,
         null,
         "2"
        ],
        [
         "top",
         null,
         "retained",
         null,
         null,
         null,
         null,
         null,
         null,
         null,
         null,
         null,
         null,
         "iPhone"
        ],
        [
         "freq",
         null,
         "11763",
         null,
         null,
         null,
         null,
         null,
         null,
         null,
         null,
         null,
         null,
         "9672"
        ],
        [
         "mean",
         "7499.0",
         null,
         "80.633775585039",
         "67.28115207680511",
         "189.9644468240468",
         "1749.8377891859457",
         "121.60597373158211",
         "29.672511500766717",
         "4039.3409208164917",
         "1860.976012129396",
         "15.537102473498233",
         "12.179878658577238",
         null
        ],
        [
         "std",
         "4329.98267894919",
         null,
         "80.69906484688363",
         "65.91387241891074",
         "136.40512847760343",
         "1008.5138761173205",
         "148.1215436250751",
         "45.39465073120531",
         "2502.1493337964916",
         "1446.702287563326",
         "9.004655351944397",
         "7.824036121515204",
         null
        ],
        [
         "min",
         "0.0",
         null,
         "0.0",
         "0.0",
         "0.2202109438",
         "4.0",
         "0.0",
         "0.0",
         "60.44125046",
         "18.28208247",
         "0.0",
         "0.0",
         null
        ],
        [
         "25%",
         "3749.5",
         null,
         "23.0",
         "20.0",
         "90.66115631",
         "878.0",
         "9.0",
         "0.0",
         "2212.6006065",
         "835.9962599",
         "8.0",
         "5.0",
         null
        ],
        [
         "50%",
         "7499.0",
         null,
         "56.0",
         "48.0",
         "159.5681147",
         "1741.0",
         "71.0",
         "9.0",
         "3493.858085",
         "1478.249859",
         "16.0",
         "12.0",
         null
        ],
        [
         "75%",
         "11248.5",
         null,
         "112.0",
         "93.0",
         "254.19234075",
         "2623.5",
         "178.0",
         "43.0",
         "5289.861262",
         "2464.3626320000003",
         "23.0",
         "19.0",
         null
        ],
        [
         "max",
         "14998.0",
         null,
         "743.0",
         "596.0",
         "1216.154633",
         "3500.0",
         "1236.0",
         "415.0",
         "21183.40189",
         "15851.72716",
         "31.0",
         "30.0",
         null
        ]
       ],
       "shape": {
        "columns": 13,
        "rows": 11
       }
      },
      "text/html": [
       "<div>\n",
       "<style scoped>\n",
       "    .dataframe tbody tr th:only-of-type {\n",
       "        vertical-align: middle;\n",
       "    }\n",
       "\n",
       "    .dataframe tbody tr th {\n",
       "        vertical-align: top;\n",
       "    }\n",
       "\n",
       "    .dataframe thead th {\n",
       "        text-align: right;\n",
       "    }\n",
       "</style>\n",
       "<table border=\"1\" class=\"dataframe\">\n",
       "  <thead>\n",
       "    <tr style=\"text-align: right;\">\n",
       "      <th></th>\n",
       "      <th>ID</th>\n",
       "      <th>label</th>\n",
       "      <th>sessions</th>\n",
       "      <th>drives</th>\n",
       "      <th>total_sessions</th>\n",
       "      <th>n_days_after_onboarding</th>\n",
       "      <th>total_navigations_fav1</th>\n",
       "      <th>total_navigations_fav2</th>\n",
       "      <th>driven_km_drives</th>\n",
       "      <th>duration_minutes_drives</th>\n",
       "      <th>activity_days</th>\n",
       "      <th>driving_days</th>\n",
       "      <th>device</th>\n",
       "    </tr>\n",
       "  </thead>\n",
       "  <tbody>\n",
       "    <tr>\n",
       "      <th>count</th>\n",
       "      <td>14999.000000</td>\n",
       "      <td>14299</td>\n",
       "      <td>14999.000000</td>\n",
       "      <td>14999.000000</td>\n",
       "      <td>14999.000000</td>\n",
       "      <td>14999.000000</td>\n",
       "      <td>14999.000000</td>\n",
       "      <td>14999.000000</td>\n",
       "      <td>14999.000000</td>\n",
       "      <td>14999.000000</td>\n",
       "      <td>14999.000000</td>\n",
       "      <td>14999.000000</td>\n",
       "      <td>14999</td>\n",
       "    </tr>\n",
       "    <tr>\n",
       "      <th>unique</th>\n",
       "      <td>NaN</td>\n",
       "      <td>2</td>\n",
       "      <td>NaN</td>\n",
       "      <td>NaN</td>\n",
       "      <td>NaN</td>\n",
       "      <td>NaN</td>\n",
       "      <td>NaN</td>\n",
       "      <td>NaN</td>\n",
       "      <td>NaN</td>\n",
       "      <td>NaN</td>\n",
       "      <td>NaN</td>\n",
       "      <td>NaN</td>\n",
       "      <td>2</td>\n",
       "    </tr>\n",
       "    <tr>\n",
       "      <th>top</th>\n",
       "      <td>NaN</td>\n",
       "      <td>retained</td>\n",
       "      <td>NaN</td>\n",
       "      <td>NaN</td>\n",
       "      <td>NaN</td>\n",
       "      <td>NaN</td>\n",
       "      <td>NaN</td>\n",
       "      <td>NaN</td>\n",
       "      <td>NaN</td>\n",
       "      <td>NaN</td>\n",
       "      <td>NaN</td>\n",
       "      <td>NaN</td>\n",
       "      <td>iPhone</td>\n",
       "    </tr>\n",
       "    <tr>\n",
       "      <th>freq</th>\n",
       "      <td>NaN</td>\n",
       "      <td>11763</td>\n",
       "      <td>NaN</td>\n",
       "      <td>NaN</td>\n",
       "      <td>NaN</td>\n",
       "      <td>NaN</td>\n",
       "      <td>NaN</td>\n",
       "      <td>NaN</td>\n",
       "      <td>NaN</td>\n",
       "      <td>NaN</td>\n",
       "      <td>NaN</td>\n",
       "      <td>NaN</td>\n",
       "      <td>9672</td>\n",
       "    </tr>\n",
       "    <tr>\n",
       "      <th>mean</th>\n",
       "      <td>7499.000000</td>\n",
       "      <td>NaN</td>\n",
       "      <td>80.633776</td>\n",
       "      <td>67.281152</td>\n",
       "      <td>189.964447</td>\n",
       "      <td>1749.837789</td>\n",
       "      <td>121.605974</td>\n",
       "      <td>29.672512</td>\n",
       "      <td>4039.340921</td>\n",
       "      <td>1860.976012</td>\n",
       "      <td>15.537102</td>\n",
       "      <td>12.179879</td>\n",
       "      <td>NaN</td>\n",
       "    </tr>\n",
       "    <tr>\n",
       "      <th>std</th>\n",
       "      <td>4329.982679</td>\n",
       "      <td>NaN</td>\n",
       "      <td>80.699065</td>\n",
       "      <td>65.913872</td>\n",
       "      <td>136.405128</td>\n",
       "      <td>1008.513876</td>\n",
       "      <td>148.121544</td>\n",
       "      <td>45.394651</td>\n",
       "      <td>2502.149334</td>\n",
       "      <td>1446.702288</td>\n",
       "      <td>9.004655</td>\n",
       "      <td>7.824036</td>\n",
       "      <td>NaN</td>\n",
       "    </tr>\n",
       "    <tr>\n",
       "      <th>min</th>\n",
       "      <td>0.000000</td>\n",
       "      <td>NaN</td>\n",
       "      <td>0.000000</td>\n",
       "      <td>0.000000</td>\n",
       "      <td>0.220211</td>\n",
       "      <td>4.000000</td>\n",
       "      <td>0.000000</td>\n",
       "      <td>0.000000</td>\n",
       "      <td>60.441250</td>\n",
       "      <td>18.282082</td>\n",
       "      <td>0.000000</td>\n",
       "      <td>0.000000</td>\n",
       "      <td>NaN</td>\n",
       "    </tr>\n",
       "    <tr>\n",
       "      <th>25%</th>\n",
       "      <td>3749.500000</td>\n",
       "      <td>NaN</td>\n",
       "      <td>23.000000</td>\n",
       "      <td>20.000000</td>\n",
       "      <td>90.661156</td>\n",
       "      <td>878.000000</td>\n",
       "      <td>9.000000</td>\n",
       "      <td>0.000000</td>\n",
       "      <td>2212.600607</td>\n",
       "      <td>835.996260</td>\n",
       "      <td>8.000000</td>\n",
       "      <td>5.000000</td>\n",
       "      <td>NaN</td>\n",
       "    </tr>\n",
       "    <tr>\n",
       "      <th>50%</th>\n",
       "      <td>7499.000000</td>\n",
       "      <td>NaN</td>\n",
       "      <td>56.000000</td>\n",
       "      <td>48.000000</td>\n",
       "      <td>159.568115</td>\n",
       "      <td>1741.000000</td>\n",
       "      <td>71.000000</td>\n",
       "      <td>9.000000</td>\n",
       "      <td>3493.858085</td>\n",
       "      <td>1478.249859</td>\n",
       "      <td>16.000000</td>\n",
       "      <td>12.000000</td>\n",
       "      <td>NaN</td>\n",
       "    </tr>\n",
       "    <tr>\n",
       "      <th>75%</th>\n",
       "      <td>11248.500000</td>\n",
       "      <td>NaN</td>\n",
       "      <td>112.000000</td>\n",
       "      <td>93.000000</td>\n",
       "      <td>254.192341</td>\n",
       "      <td>2623.500000</td>\n",
       "      <td>178.000000</td>\n",
       "      <td>43.000000</td>\n",
       "      <td>5289.861262</td>\n",
       "      <td>2464.362632</td>\n",
       "      <td>23.000000</td>\n",
       "      <td>19.000000</td>\n",
       "      <td>NaN</td>\n",
       "    </tr>\n",
       "    <tr>\n",
       "      <th>max</th>\n",
       "      <td>14998.000000</td>\n",
       "      <td>NaN</td>\n",
       "      <td>743.000000</td>\n",
       "      <td>596.000000</td>\n",
       "      <td>1216.154633</td>\n",
       "      <td>3500.000000</td>\n",
       "      <td>1236.000000</td>\n",
       "      <td>415.000000</td>\n",
       "      <td>21183.401890</td>\n",
       "      <td>15851.727160</td>\n",
       "      <td>31.000000</td>\n",
       "      <td>30.000000</td>\n",
       "      <td>NaN</td>\n",
       "    </tr>\n",
       "  </tbody>\n",
       "</table>\n",
       "</div>"
      ],
      "text/plain": [
       "                  ID     label      sessions        drives  total_sessions  \\\n",
       "count   14999.000000     14299  14999.000000  14999.000000    14999.000000   \n",
       "unique           NaN         2           NaN           NaN             NaN   \n",
       "top              NaN  retained           NaN           NaN             NaN   \n",
       "freq             NaN     11763           NaN           NaN             NaN   \n",
       "mean     7499.000000       NaN     80.633776     67.281152      189.964447   \n",
       "std      4329.982679       NaN     80.699065     65.913872      136.405128   \n",
       "min         0.000000       NaN      0.000000      0.000000        0.220211   \n",
       "25%      3749.500000       NaN     23.000000     20.000000       90.661156   \n",
       "50%      7499.000000       NaN     56.000000     48.000000      159.568115   \n",
       "75%     11248.500000       NaN    112.000000     93.000000      254.192341   \n",
       "max     14998.000000       NaN    743.000000    596.000000     1216.154633   \n",
       "\n",
       "        n_days_after_onboarding  total_navigations_fav1  \\\n",
       "count              14999.000000            14999.000000   \n",
       "unique                      NaN                     NaN   \n",
       "top                         NaN                     NaN   \n",
       "freq                        NaN                     NaN   \n",
       "mean                1749.837789              121.605974   \n",
       "std                 1008.513876              148.121544   \n",
       "min                    4.000000                0.000000   \n",
       "25%                  878.000000                9.000000   \n",
       "50%                 1741.000000               71.000000   \n",
       "75%                 2623.500000              178.000000   \n",
       "max                 3500.000000             1236.000000   \n",
       "\n",
       "        total_navigations_fav2  driven_km_drives  duration_minutes_drives  \\\n",
       "count             14999.000000      14999.000000             14999.000000   \n",
       "unique                     NaN               NaN                      NaN   \n",
       "top                        NaN               NaN                      NaN   \n",
       "freq                       NaN               NaN                      NaN   \n",
       "mean                 29.672512       4039.340921              1860.976012   \n",
       "std                  45.394651       2502.149334              1446.702288   \n",
       "min                   0.000000         60.441250                18.282082   \n",
       "25%                   0.000000       2212.600607               835.996260   \n",
       "50%                   9.000000       3493.858085              1478.249859   \n",
       "75%                  43.000000       5289.861262              2464.362632   \n",
       "max                 415.000000      21183.401890             15851.727160   \n",
       "\n",
       "        activity_days  driving_days  device  \n",
       "count    14999.000000  14999.000000   14999  \n",
       "unique            NaN           NaN       2  \n",
       "top               NaN           NaN  iPhone  \n",
       "freq              NaN           NaN    9672  \n",
       "mean        15.537102     12.179879     NaN  \n",
       "std          9.004655      7.824036     NaN  \n",
       "min          0.000000      0.000000     NaN  \n",
       "25%          8.000000      5.000000     NaN  \n",
       "50%         16.000000     12.000000     NaN  \n",
       "75%         23.000000     19.000000     NaN  \n",
       "max         31.000000     30.000000     NaN  "
      ]
     },
     "execution_count": 8,
     "metadata": {},
     "output_type": "execute_result"
    }
   ],
   "source": [
    "waze_summary = waze.describe(include='all')\n",
    "waze_summary"
   ]
  },
  {
   "cell_type": "markdown",
   "id": "d97bcfc5",
   "metadata": {},
   "source": [
    "#### Early Observations:\n",
    "Some users have zero sessions, drives, or activity—likely candidates for churn.\n",
    "\n",
    "High values in driven_km_drives and duration_minutes_drives suggest loyal users with significant engagement.\n",
    "\n",
    "The wide range in total_navigations_fav1 and fav2 could be key behavioral signals for retention."
   ]
  },
  {
   "cell_type": "markdown",
   "id": "91134047",
   "metadata": {},
   "source": [
    "### 🧾 Column Descriptions\n",
    "\n",
    "| Column Name               | Type   | Description                                                                 |\n",
    "|---------------------------|--------|-----------------------------------------------------------------------------|\n",
    "| `ID`                      | int    | A sequential numbered index (unique identifier for each user)              |\n",
    "| `label`                   | object | **Target variable** – whether the user was _retained_ or _churned_         |\n",
    "| `sessions`                | int    | Number of times a user opened the app during the month                     |\n",
    "| `drives`                  | int    | Number of times a user drove at least 1 km during the month                |\n",
    "| `device`                  | object | Type of device used to start a session (e.g., Android, iOS)                |\n",
    "| `total_sessions`          | float  | Estimated total number of sessions since the user onboarded                |\n",
    "| `n_days_after_onboarding` | int    | Number of days since the user signed up for the app                        |\n",
    "| `total_navigations_fav1` | int    | Total navigations to the user’s favorite place 1 since onboarding          |\n",
    "| `total_navigations_fav2` | int    | Total navigations to the user’s favorite place 2 since onboarding          |\n",
    "| `driven_km_drives`        | float  | Total kilometers driven by the user during the month                       |\n",
    "| `duration_minutes_drives`| float  | Total duration (in minutes) the user drove during the month                |\n",
    "| `activity_days`           | int    | Number of days the user opened the app during the month                    |\n",
    "| `driving_days`            | int    | Number of days the user drove at least 1 km during the month               |\n",
    "\n",
    "-"
   ]
  },
  {
   "cell_type": "markdown",
   "id": "693aaa14",
   "metadata": {},
   "source": [
    "### Next Step:\n",
    "I’ll draft a brief executive summary tailored for both the technical and cross-functional team members."
   ]
  }
 ],
 "metadata": {
  "kernelspec": {
   "display_name": "Python 3",
   "language": "python",
   "name": "python3"
  },
  "language_info": {
   "codemirror_mode": {
    "name": "ipython",
    "version": 3
   },
   "file_extension": ".py",
   "mimetype": "text/x-python",
   "name": "python",
   "nbconvert_exporter": "python",
   "pygments_lexer": "ipython3",
   "version": "3.12.1"
  }
 },
 "nbformat": 4,
 "nbformat_minor": 5
}
